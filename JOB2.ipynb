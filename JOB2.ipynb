{
  "nbformat": 4,
  "nbformat_minor": 0,
  "metadata": {
    "colab": {
      "name": "JOB2.ipynb",
      "provenance": []
    },
    "kernelspec": {
      "name": "python3",
      "display_name": "Python 3"
    }
  },
  "cells": [
    {
      "cell_type": "markdown",
      "metadata": {
        "id": "hW0cpU2T8_rA",
        "colab_type": "text"
      },
      "source": [
        "# **JOB 2**"
      ]
    },
    {
      "cell_type": "markdown",
      "metadata": {
        "id": "M5WzhIqI9Fqe",
        "colab_type": "text"
      },
      "source": [
        "\n",
        "\n",
        "> JOB2a\n",
        "\n",
        "1.\tSiapkan modul Trainer IoT berbasis ESP8266.\n",
        "\n",
        "2.\tBuatlah rangkaian seperti di bawah ini, perlu diingat bahwa Wemos D1 R2 maks input tegangannya adalah 12 VDC, untuk relay gunakan 5 VDC, dan untuk LCD disarankan menggunakan 5 VDC (lebih jelasnya lihat datasheet):\n",
        "![wemos Relay LCD](https://github.com/herjunart/Trainer-IoT-berbasis-ESP8266/blob/master/skema%20job/relay%20lcd.jpg?raw=true)\n",
        "\n",
        "3.\tJika rangkaian sudah selesai dibuat, laporkan pada pengajar untuk mengecek kebenaran rangkaian.\n",
        "\n",
        "4.\tSelanjutnya siapkan laptop dan buka aplikasi Arduino IDE pada laptop anda.\n",
        "\n",
        "5.\tSebelum membuat program, amati dan perhatikan terlebih dahulu algoritma program di bawah ini:\n",
        "![flowchart job2a](https://github.com/herjunart/Trainer-IoT-berbasis-ESP8266/blob/master/flowchart/job2a.jpg?raw=true)\n",
        "\n",
        "6.\tKemudian ketikkan program job2a.ino\n",
        "\n",
        "7.\tJika program selesai diketik, lakukan langkah seperti di bawah ini untuk memilih board wemos dengan menekan tools>boards>Wemos D1 R2 & mini.\n",
        "\n",
        "8.\tSebelum mengupload program, pilih port yang sesuai dan tersedia dengan menekan tools>port>pilih port yang sesuai dan tersedia.\n",
        "9.\tKemudian sambungkan kabel data antara Wemos D1 R2 dengan laptop anda lalu tekan tombol   untuk menyimpan dan mengupload program.\n",
        "10.\tPastikan program terupload dengan benar dan tidak ada error!\n",
        "11.\tSelanjutnya adalah menyambungkan modul trainer IoT dengan sumber tegangan antara 6-12 VDC lalu tekan saklar   untuk menyalakan rangkaian, pastikan tegangan yang digunakan dalam rentang tersebut jika tidak maka rangkaian dapat terbakar!\n",
        "12.\tAmati dan perhatikan data apa yang ditampilkan oleh LCD! Jika rangkaian dan program benar maka akan menampilkan Relay On selama 1 detik dan Relay Off selama 2 detik. Bagaimana bisa seperti itu?\n",
        "13.\tSelanjutnya ubah program digitalWrite(RLYPIN,LOW) menjadi digitalWrite(RLYPIN,HIGH) begitu juga sebaliknya!\n",
        "14.\tAmati dan perhatikanlah apa yang berubah!\n",
        "\n",
        "\n",
        "\n"
      ]
    },
    {
      "cell_type": "code",
      "metadata": {
        "id": "1wG0tFjp81Bi",
        "colab_type": "code",
        "colab": {}
      },
      "source": [
        "#include <LiquidCrystal_I2C.h>\n",
        "#define RLYPIN 0    //ke PIN WEMOS D8\n",
        "LiquidCrystal_I2C lcd(0x27,16,2);\n",
        "void setup() {\n",
        "  lcd.begin();\n",
        "  pinMode(RLYPIN,OUTPUT);\n",
        "  lcd.setCursor(0,0); lcd.print(\"Trainer IoT\");\n",
        "  lcd.setCursor(0,1); lcd.print(\"berbasis ESP8266\");\n",
        "  delay(2000);\n",
        "}\n",
        "void loop() {\n",
        "  lcd.clear(); \n",
        "  lcd.setCursor(0,0);lcd.print(\"Relay \");\n",
        "  digitalWrite(RLYPIN,LOW);\n",
        "  lcd.setCursor(6,0);lcd.print(\"On\");\n",
        "  delay(1000);\n",
        "  digitalWrite(RLYPIN,HIGH);\n",
        "  lcd.setCursor(6,0);lcd.print(\"Off\");\n",
        "  delay(2000);\n",
        "}"
      ],
      "execution_count": 0,
      "outputs": []
    },
    {
      "cell_type": "markdown",
      "metadata": {
        "id": "tdEojgT8-N38",
        "colab_type": "text"
      },
      "source": [
        "\n",
        "\n",
        "> Job2b\n",
        "\n",
        "1.\tJika anda sudah memahami 12 langkah di atas, sekarang lanjutkan dengan mempraktikkan NodeMCU dengan buzzer. Buatlah rangkaian seperti di bawah ini:\n",
        "![teks alternatif](https://github.com/herjunart/Trainer-IoT-berbasis-ESP8266/blob/master/skema%20job/skema%20buzzer%20lcd_bb.jpg?raw=true)\n",
        "\n",
        "2.\tLakukan langkah yang sama seperti langkah 1-10 untuk buzzer, namun untuk board pilih NodeMCU 1.0 (ESP-12E Module).\n",
        "\n",
        "3.\tSebelum membuat program, amati dan perhatikan terlebih dahulu algoritma program di bawah ini:\n",
        "![flowchart job2b](https://github.com/herjunart/Trainer-IoT-berbasis-ESP8266/blob/master/flowchart/job2b.jpg?raw=true)\n",
        "\n",
        "4.\tAmati dan perhatikan data yang ditampilkan! Jika rangkaian dan program benar, maka LCD akan menampilkan Buzzer On selama 0,1 detik dan Buzzer Off selama 2 detik. Bagaimana bisa seperti itu?\n",
        "5.\tSelanjutnya ubah program delay(100) menjadi delay(1000), kemudian amati perubahan yang terjadi!\n"
      ]
    },
    {
      "cell_type": "code",
      "metadata": {
        "id": "iSJi1JON-v3F",
        "colab_type": "code",
        "colab": {}
      },
      "source": [
        "#include <LiquidCrystal_I2C.h>\n",
        "#define BZPIN 16    //ke PIN NODEMCU D0\n",
        "LiquidCrystal_I2C lcd(0x27,16,2);\n",
        "void setup() {\n",
        "  lcd.begin();\n",
        "  pinMode(BZPIN,OUTPUT);\n",
        "  lcd.setCursor(0,0); lcd.print(\"Trainer IoT\");\n",
        "  lcd.setCursor(0,1); lcd.print(\"berbasis ESP8266\");\n",
        "  delay(2000);\n",
        "}\n",
        "void loop() {\n",
        "  lcd.clear(); \n",
        "  lcd.setCursor(0,0);lcd.print(\"Buzzer \");\n",
        "  digitalWrite(BZPIN,LOW);\n",
        "  lcd.setCursor(7,0);lcd.print(\"On\");\n",
        "  delay(100);\n",
        "  digitalWrite(BZPIN,HIGH);\n",
        "  lcd.setCursor(7,0);lcd.print(\"Off\");\n",
        "  delay(2000);\n",
        "}"
      ],
      "execution_count": 0,
      "outputs": []
    },
    {
      "cell_type": "markdown",
      "metadata": {
        "id": "rH4QU4qA_5h5",
        "colab_type": "text"
      },
      "source": [
        "### Latihan/Tugas"
      ]
    },
    {
      "cell_type": "markdown",
      "metadata": {
        "id": "nc3bWTbxAB9s",
        "colab_type": "text"
      },
      "source": [
        "1.\tCobalah mengakses aktuator lainnya dengan Wemos D1 R2 dan NodeMCU menggunakan langkah-langkah yang telah dipahami di atas!\n",
        "2.\tJelaskan pengaruh perubahan logika HIGH dan LOW pada program yang pertama!\n",
        "3.\tJelaskan pengaruh delay() pada program kedua!\n",
        "4.\tBuatlah laporan kegiatan praktikum dan kesimpulannya!"
      ]
    }
  ]
}