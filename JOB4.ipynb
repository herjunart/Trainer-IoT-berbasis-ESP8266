{
  "nbformat": 4,
  "nbformat_minor": 0,
  "metadata": {
    "colab": {
      "name": "JOB4.ipynb",
      "provenance": []
    },
    "kernelspec": {
      "name": "python3",
      "display_name": "Python 3"
    }
  },
  "cells": [
    {
      "cell_type": "markdown",
      "metadata": {
        "id": "Bv_Uliu_FNkJ",
        "colab_type": "text"
      },
      "source": [
        "# JOB 4"
      ]
    },
    {
      "cell_type": "markdown",
      "metadata": {
        "id": "y0AeBxcyFOGC",
        "colab_type": "text"
      },
      "source": [
        "1.\tBukalah aplikasi Blynk di smartphone anda.\n",
        "2.\tBuatlah project baru satu styled button dan satu button.\n",
        "3.\tSetelah aplikasi selesai dibuat, buatlah rangkaian seperti di bawah ini:\n",
        "![job4](https://github.com/herjunart/Trainer-IoT-berbasis-ESP8266/blob/master/skema%20job/job3.jpg?raw=true)\n",
        "4.\tSebelum membuat program, amati dan perhatikan terlebih dahulu algoritma program di bawah ini:\n",
        "![flowchart job4](https://github.com/herjunart/Trainer-IoT-berbasis-ESP8266/blob/master/flowchart/job4.jpg?raw=true)\n",
        "5.\tKemudian tulislah program job4.ino\n",
        "6.\tPastikan program terupload dengan benar.\n",
        "7.\tSetelah langkah-langkah di atas selesai, jalankan aplikasi dan praktikkan percobaan tersebut."
      ]
    },
    {
      "cell_type": "code",
      "metadata": {
        "id": "afQQlaXJFIoz",
        "colab_type": "code",
        "colab": {}
      },
      "source": [
        "#include <ESP8266WiFi.h>\t\n",
        "#include <BlynkSimpleEsp8266.h>\n",
        "#include <LiquidCrystal_I2C.h>\n",
        "#include <SPI.h>\n",
        "#include <RFID.h>\n",
        "#define SS_PIN 15 //pin SDA modul RFID ke D10 wemos\n",
        "#define RST_PIN 2\n",
        "#define BZPIN 0  //pin D8 wemos\n",
        "#define RLYPIN 16 //pin D2 wemos\n",
        "RFID rfid(SS_PIN,RST_PIN);\n",
        "LiquidCrystal_I2C lcd(0x27,16,2); \n",
        "BlynkTimer timer;\n",
        "char auth[] = \"xxxx\"; //masukkan kode auth device yang dikirimkan ke email anda\n",
        "char ssid[] = \"xxxx\"; //masukkan nama wifi \n",
        "char pass[] = \"xxxx\"; //masukkan password wifi\n",
        "int serNum0= xxxx; //isikan kode pada kartu rfid\n",
        "int serNum1= xxxx;\n",
        "int serNum2= xxxx;\n",
        "int serNum3= xxxx;\n",
        "void setup() {                      \n",
        "  Blynk.begin(auth, ssid, pass);\n",
        "  SPI.begin();\n",
        "  rfid.init();\n",
        "  lcd.begin();\n",
        "  lcd.backlight();\n",
        "  pinMode(BZPIN,OUTPUT); pinMode(RLYPIN,OUTPUT);\n",
        "  digitalWrite(BZPIN,HIGH); digitalWrite(RLYPIN,HIGH);\n",
        "  lcd.setCursor(0,0); lcd.print(\"Trainer IoT\");\n",
        "  lcd.setCursor(0,1); lcd.print(\"berbasis ESP8266\");\n",
        "  delay(2000);\n",
        "  lcd.clear();\n",
        "  timer.setInterval(1000L,readrfid);\n",
        "}\n",
        "void readrfid() {\n",
        "   lcd.clear();\n",
        "   lcd.setCursor(0,0); lcd.print(\"Tempelkan\");\n",
        "   lcd.setCursor(0,1); lcd.print(\"kartu anda\");\n",
        "   delay(1000);\n",
        "   if(rfid.isCard()){\n",
        "        if(rfid.readCardSerial()){\n",
        "            if (rfid.serNum[0] == serNum0\n",
        "                && rfid.serNum[1] == serNum1\n",
        "                && rfid.serNum[2] == serNum2\n",
        "                && rfid.serNum[3] == serNum3\n",
        "            ){\n",
        "            lcd.clear();lcd.setCursor(0,0); lcd.print(\"Akses Diterima\");\n",
        "            delay(2000);\n",
        "            digitalWrite(BZPIN,LOW); delay(100); \n",
        "            digitalWrite(BZPIN,HIGH); digitalWrite(RLYPIN,LOW); \n",
        "            Blynk.virtualWrite(V1,LOW); Blynk.virtualWrite(V2,LOW);\n",
        "        }else{\n",
        "          lcd.clear();lcd.setCursor(0,0); lcd.print(\"Akses Ditolak\");\n",
        "          digitalWrite(BZPIN,LOW); delay(2000);\n",
        "          digitalWrite(BZPIN,HIGH); digitalWrite(RLYPIN,HIGH);\n",
        "          Blynk.virtualWrite(V1,HIGH); Blynk.virtualWrite(V2,HIGH);\n",
        "        }\n",
        "      } \n",
        "   }\n",
        "   rfid.halt();\n",
        "}\n",
        "void loop(){\n",
        "  Blynk.run();\n",
        "  timer.run();\n",
        "}"
      ],
      "execution_count": 0,
      "outputs": []
    },
    {
      "cell_type": "markdown",
      "metadata": {
        "id": "dBFZytNbF9FB",
        "colab_type": "text"
      },
      "source": [
        "### Latihan/Tugas"
      ]
    },
    {
      "cell_type": "markdown",
      "metadata": {
        "id": "WcSJ_n_uF9eL",
        "colab_type": "text"
      },
      "source": [
        "1.\tJelaskan konsep IoT pada percobaan kali ini!\n",
        "2.\tTambahkan sensor LDR pada project di atas untuk menyalakan lampu ketika kondisi rumah sudah gelap!\n",
        "3.\tBuatlah laporan kegiatan praktikum dan kesimpulannya!\n"
      ]
    }
  ]
}