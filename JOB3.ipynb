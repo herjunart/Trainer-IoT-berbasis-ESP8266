{
  "nbformat": 4,
  "nbformat_minor": 0,
  "metadata": {
    "colab": {
      "name": "JOB3.ipynb",
      "provenance": []
    },
    "kernelspec": {
      "name": "python3",
      "display_name": "Python 3"
    }
  },
  "cells": [
    {
      "cell_type": "markdown",
      "metadata": {
        "id": "9SbxIv8Y_igY",
        "colab_type": "text"
      },
      "source": [
        "# **JOB 3**"
      ]
    },
    {
      "cell_type": "markdown",
      "metadata": {
        "id": "uKsCiIMu_wPV",
        "colab_type": "text"
      },
      "source": [
        "\n",
        "\n",
        ">JOB3 prepare blynk\n",
        "\n",
        "1.\tBukalah aplikasi Blynk.\n",
        "2.\tJika telah membuat akun Blynk maka pilih Log In.\n",
        "3.\tMasukkan Email dan password yang didaftarkan, klik Log In.\n",
        "4.\tBuatlah project dengan menekan New Project.\n",
        "5.\tMasukkan nama project>pilih device Wemos D1>pilih koneksi wifi>kemudian tekan Create.\n",
        "6.\tSetelah project terbuat, maka aplikasi Blynk akan mengirimkan Auth Token ke email anda yang terdaftar.\n",
        "7.\tTambahkan satu device.\n",
        "8.\tBuatlah project dua widget button.\n",
        "\n",
        "\n"
      ]
    },
    {
      "cell_type": "markdown",
      "metadata": {
        "id": "ND-mGEnXBL7b",
        "colab_type": "text"
      },
      "source": [
        "\n",
        "\n",
        "> JOB3a\n",
        "\n",
        "1.\tJika aplikasi Blynk telah selesai dibuat, siapkan modul Trainer IoT berbasis ESP8266.\n",
        "2.\tKemudian buatlah rangkaian seperti di bawah ini perlu diingat bahwa tegangan input maks yang diperbolehkan untuk NodeMCU adalah 5 VDC dan Wemos D1 R2 adalah 12 VDC:\n",
        "![wemos nodemcu](https://github.com/herjunart/Trainer-IoT-berbasis-ESP8266/blob/master/skema%20job/blynk.jpg?raw=true)\n",
        "3.\tSebelum membuat program, amati dan perhatikan terlebih dahulu algoritma program di bawah ini:\n",
        "![flowchart job3a](https://github.com/herjunart/Trainer-IoT-berbasis-ESP8266/blob/master/flowchart/job3a.jpg?raw=true)\n",
        "4.\tSelanjutnya  buka aplikasi Arduino IDE dan tulislah program job3a.ino\n",
        "5.\tMasukkan kode auth yang telah dikirimkan ke email anda. Masing-masing board menggunakan kode auth sendiri-sendiri. \n",
        "6.\tBuatlah tethering dengan SSID dan pass yang bisa anda akses kemudian isikan ke program di atas. \n",
        "7.\tJika program selesai diketik, lakukan langkah seperti di bawah ini untuk memilih board wemos dengan menekan tools>boards>Wemos D1 R2 & mini (untuk Wemos) dan NodeMCU 1.0 (ESP-12E Module) (untuk NodeMCU).\n",
        "8.\tSebelum mengupload program, pilih port yang sesuai dan tersedia dengan menekan tools>port>pilih port yang sesuai dan tersedia.\n",
        "9.\tKemudian sambungkan kabel data antara Wemos D1 R2 dan NodeMCU dengan laptop anda lalu tekan tombol   untuk menyimpan dan mengupload program. Jika kabel hanya satu lakukan secara bergantian!\n",
        "10.\tPastikan program terupload dengan benar dan tidak ada error!\n",
        "11.\tSelanjutnya adalah menyambungkan modul trainer IoT dengan sumber tegangan antara 6-12 VDC lalu tekan saklar   untuk menyalakan rangkaian, pastikan tegangan yang digunakan dalam rentang tersebut jika tidak maka rangkaian dapat terbakar!\n",
        "12.\tLangkah selanjutnya buka dan jalankan aplikasi Blynk yang telah dibuat tadi dengan menekan tombol play, kemudian cobalah menekan masing-masing tombol dan perhatikan apa yang terjadi."
      ]
    },
    {
      "cell_type": "code",
      "metadata": {
        "id": "4ZgUtDBy_EdG",
        "colab_type": "code",
        "colab": {}
      },
      "source": [
        "#include <ESP8266WiFi.h>\n",
        "#include <BlynkSimpleEsp8266.h>\n",
        "char auth[] = \"xxxx\"; //masukkan kode auth device yang dikirimkan ke email anda\n",
        "char ssid[] = \"xxxx\"; //masukkan nama wifi \n",
        "char pass[] = \"xxxx\"; //masukkan password wifi\n",
        "void setup(){\n",
        "   Blynk.begin(auth, ssid, pass);\n",
        "}\n",
        "void loop(){\n",
        "  Blynk.run();\n",
        "}"
      ],
      "execution_count": 0,
      "outputs": []
    },
    {
      "cell_type": "markdown",
      "metadata": {
        "id": "M5aoi5qK_upi",
        "colab_type": "text"
      },
      "source": [
        "\n",
        "\n",
        "> JOB3b\n",
        "\n",
        "1.\tSelanjutnya tambahkan widget gauge pada aplikasi Blynk anda.\n",
        "2.\tJika aplikasi Blynk selesai dibuat, buatlah rangkaian seperti di bawah ini:\n",
        "![wemos dht11](https://github.com/herjunart/Trainer-IoT-berbasis-ESP8266/blob/master/skema%20job/blynk%205v.jpg?raw=true)\n",
        "3.\tSebelum membuat program, amati dan perhatikan terlebih dahulu algoritma program di bawah ini:\n",
        "![flowchart job3b](https://github.com/herjunart/Trainer-IoT-berbasis-ESP8266/blob/master/flowchart/job3b.jpg?raw=true)\n",
        "4.\tKemudian bukalah aplikasi Arduino IDE dan tulislah program job3b.ino\n",
        "\n",
        "5.\tLakukan langkah yang sama seperti pada langkah 7-12 job3a!\n",
        "6.\tKemudian buka dan jalankan aplikasi Blynk dengan menekan tombol play, kemudian perhatikan apa yang ditampilkan oleh aplikasi.\n",
        "7.\tJika pembacaan sensor berhasil dilakukan selanjutnya tambahkan widget zeRGBa \n",
        "8.\tJika aplikasi Blynk telah selesai dibuat, buatlah rangkaian di bawah ini:\n",
        "![wemos rgb](https://github.com/herjunart/Trainer-IoT-berbasis-ESP8266/blob/master/skema%20job/rgb%20blynk.jpg?raw=true)\n",
        "9.\tSetelah rangkaian selesai dibuat, jalankan aplikasi Blynk dengan menekan  tombol play, kemudian perhatikan apa yang terjadi.\n"
      ]
    },
    {
      "cell_type": "code",
      "metadata": {
        "id": "epDnhxvG_vKj",
        "colab_type": "code",
        "colab": {}
      },
      "source": [
        "#include <ESP8266WiFi.h>\n",
        "#include <BlynkSimpleEsp8266.h>\n",
        "#include <DHT.h>\n",
        "char auth[] = \"xxxx\"; //masukkan kode auth device yang dikirimkan ke email anda\n",
        "char ssid[] = \"xxxx\"; //masukkan nama wifi \n",
        "char pass[] = \"xxxx\"; //masukkan password wifi \n",
        "#define DHTPIN 16          //ke PIN Wemos D2\n",
        "#define DHTTYPE DHT11     // DHT 11\n",
        "DHT dht(DHTPIN, DHTTYPE);\n",
        "BlynkTimer timer;\n",
        "void sendSensor(){\n",
        "  float h = dht.readHumidity();\n",
        "  float t = dht.readTemperature();\n",
        "  if (isnan(h) || isnan(t)) {\n",
        "    Blynk.virtualWrite(V5,\"Failed to read from DHT sensor!\");\n",
        "    Blynk.virtualWrite(V6,\"Failed to read from DHT sensor!\");\n",
        "    return;\n",
        "  }\n",
        "  Blynk.virtualWrite(V5, h);\n",
        "  Blynk.virtualWrite(V6, t);\n",
        "}\n",
        "void setup(){\n",
        "  Blynk.begin(auth, ssid, pass);\n",
        "  dht.begin();\n",
        "  timer.setInterval(1000L, sendSensor);\n",
        "}\n",
        "void loop(){\n",
        "  Blynk.run();\n",
        "  timer.run();\n",
        "}"
      ],
      "execution_count": 0,
      "outputs": []
    },
    {
      "cell_type": "markdown",
      "metadata": {
        "id": "QsB_DYprD5F2",
        "colab_type": "text"
      },
      "source": [
        "### Latihan/Tugas"
      ]
    },
    {
      "cell_type": "markdown",
      "metadata": {
        "id": "cgEixijIEgob",
        "colab_type": "text"
      },
      "source": [
        "1.\tCobalah mengakses sensor dan aktuator lainnya dengan NodeMCU, tulis perbedaannya!\n",
        "2.\tCobalah berbagai widget yang tersedia di aplikasi Blynk!\n",
        "3.\tJelaskan bagaimana cara data dikirimkan ke server blynk!  \n",
        "4.\tJelaskan fungsi Blynk.run() pada baris program!\n",
        "5.\tBuatlah laporan kegiatan praktikum dan kesimpulannya!\n"
      ]
    }
  ]
}