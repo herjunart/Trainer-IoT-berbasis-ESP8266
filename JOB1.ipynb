{
  "nbformat": 4,
  "nbformat_minor": 0,
  "metadata": {
    "colab": {
      "name": "JOB1.ipynb",
      "provenance": []
    },
    "kernelspec": {
      "name": "python3",
      "display_name": "Python 3"
    }
  },
  "cells": [
    {
      "cell_type": "markdown",
      "metadata": {
        "id": "_pCwnP-y92D2",
        "colab_type": "text"
      },
      "source": [
        "# **JOB 1**"
      ]
    },
    {
      "cell_type": "markdown",
      "metadata": {
        "id": "SFhIk4S1-E79",
        "colab_type": "text"
      },
      "source": [
        "1.\tSiapkan modul Trainer IoT berbasis ESP8266.\n",
        "\n",
        "\n",
        "\n"
      ]
    },
    {
      "cell_type": "markdown",
      "metadata": {
        "id": "y4a7wW8X-WQr",
        "colab_type": "text"
      },
      "source": [
        "2.\tBuatlah rangkaian seperti di bawah ini, perlu diingat bahwa Wemos D1 R2 maks input tegangannya adalah 12 VDC, untuk sensor DHT11 maks 5 VDC, dan untuk LCD disarankan menggunakan 5 VDC (lebih jelasnya lihat datasheet):\n",
        "![DHT 11 + LCD](https://github.com/herjunart/Trainer-IoT-berbasis-ESP8266/blob/master/skema%20job/dht11%2Blcd.jpg?raw=true)\n"
      ]
    },
    {
      "cell_type": "markdown",
      "metadata": {
        "id": "6qlOupGR_k9J",
        "colab_type": "text"
      },
      "source": [
        "\n",
        "3.\tJika rangkaian sudah selesai dibuat, laporkan pada pengajar untuk mengecek kebenaran rangkaian.\n",
        "\n"
      ]
    },
    {
      "cell_type": "markdown",
      "metadata": {
        "id": "KTKhSeyX_qDH",
        "colab_type": "text"
      },
      "source": [
        "\n",
        "\n",
        "4.\tSelanjutnya siapkan laptop dan buka aplikasi Arduino IDE pada laptop anda.\n"
      ]
    },
    {
      "cell_type": "markdown",
      "metadata": {
        "id": "VAHuMXIC_u0L",
        "colab_type": "text"
      },
      "source": [
        "\n",
        "\n",
        "5.\tSebelum membuat program, amati dan perhatikan algoritma program di bawah ini:\n",
        "![flowchart job1a](https://github.com/herjunart/Trainer-IoT-berbasis-ESP8266/blob/master/flowchart/Job1a.jpg?raw=true)\n"
      ]
    },
    {
      "cell_type": "markdown",
      "metadata": {
        "id": "zU2iFbUL_1T8",
        "colab_type": "text"
      },
      "source": [
        "\n",
        "\n",
        "6.\tKemudian ketikkan program job1a.ino\n",
        "\n"
      ]
    },
    {
      "cell_type": "code",
      "metadata": {
        "id": "2fpLznD3DC8C",
        "colab_type": "code",
        "colab": {}
      },
      "source": [
        "#include <LiquidCrystal_I2C.h>\n",
        "#include \"DHT.h\"\n",
        "#define DHTPIN 16     //ke PIN WEMOS D2\n",
        "#define DHTTYPE DHT11   //untuk tipe DHT 11\n",
        "LiquidCrystal_I2C lcd(0x27,16,2);\n",
        "DHT dht(DHTPIN, DHTTYPE);\n",
        "void setup() {\n",
        "  lcd.begin();\n",
        "  dht.begin();\n",
        "  lcd.setCursor(0,0); lcd.print(\"Trainer IoT\");\n",
        "  lcd.setCursor(0,1); lcd.print(\"berbasis ESP8266\");\n",
        "  delay(2000);\n",
        "}\n",
        "void loop() {\n",
        "  delay(2000);\n",
        "  lcd.clear(); \n",
        "  float h = dht.readHumidity(); //membaca tingkat kelembaban\n",
        "  float t = dht.readTemperature(); //membaca suhu dalam celcius\n",
        "  if (isnan(h) || isnan(t)) {\n",
        "    int i;\n",
        "    lcd.setCursor(1,0);lcd.print(\"Gagal membaca sensor DHT11!\");\n",
        "    for(i=0;i<16;i++){\n",
        "    lcd.scrollDisplayLeft();\n",
        "    delay(1000);}\n",
        "    return;\n",
        "  }\n",
        "  else {\n",
        "    lcd.setCursor(0,0);lcd.print(\"Lembab:\");lcd.print(h);lcd.print(\"%\");\n",
        "    lcd.setCursor(0,1);lcd.print(\"Suhu:\");lcd.print(t);lcd.print(\"*C\");\n",
        "  }\n",
        "}"
      ],
      "execution_count": 0,
      "outputs": []
    },
    {
      "cell_type": "markdown",
      "metadata": {
        "id": "Ov8rSdcoBd7k",
        "colab_type": "text"
      },
      "source": [
        "\n",
        "7.\tJika program selesai diketik, lakukan langkah seperti di bawah ini untuk memilih board wemos dengan menekan tools>boards>Wemos D1 R2 & mini.\n",
        "\n"
      ]
    },
    {
      "cell_type": "markdown",
      "metadata": {
        "id": "RHaNe69VBlBY",
        "colab_type": "text"
      },
      "source": [
        "\n",
        "\n",
        "8. Sebelum mengupload program, pilih port yang sesuai dan tersedia dengan menekan tools>port>pilih port yang sesuai dan tersedia.\n",
        "\n",
        "\n"
      ]
    },
    {
      "cell_type": "markdown",
      "metadata": {
        "id": "gk9GqRpqB4AG",
        "colab_type": "text"
      },
      "source": [
        "\n",
        "\n",
        "9.\tKemudian sambungkan kabel data antara Wemos D1 R2 dengan laptop anda lalu tekan tombol upload untuk menyimpan dan mengupload program.\n",
        "\n"
      ]
    },
    {
      "cell_type": "markdown",
      "metadata": {
        "id": "iDoBU3RUB9Fj",
        "colab_type": "text"
      },
      "source": [
        "\n",
        "\n",
        "10. Pastikan program terupload dengan benar dan tidak ada error!\n",
        "\n"
      ]
    },
    {
      "cell_type": "markdown",
      "metadata": {
        "id": "Uf_vG_KvCDsD",
        "colab_type": "text"
      },
      "source": [
        "\n",
        "\n",
        "11.\tSelanjutnya adalah menyambungkan modul trainer IoT dengan sumber tegangan antara 6-12 VDC lalu tekan saklar untuk menyalakan rangkaian, pastikan tegangan yang digunakan dalam rentang tersebut jika tidak maka rangkaian dapat terbakar!\n",
        "\n"
      ]
    },
    {
      "cell_type": "markdown",
      "metadata": {
        "id": "s7JEVx_XCdKL",
        "colab_type": "text"
      },
      "source": [
        "\n",
        "\n",
        "12.\tAmati dan perhatikan data apa yang ditampilkan oleh LCD! Jika rangkaian dan program benar maka akan menampilkan data kelembaban dan suhu.\n",
        "\n"
      ]
    },
    {
      "cell_type": "markdown",
      "metadata": {
        "id": "ilhqxFNYDLzO",
        "colab_type": "text"
      },
      "source": [
        "13.\tSelanjutnya ubah program delay(2000) pada void loop() menjadi delay(100)!"
      ]
    },
    {
      "cell_type": "markdown",
      "metadata": {
        "id": "E39Qx1joDQuw",
        "colab_type": "text"
      },
      "source": [
        "14.\tAmati dan perhatikanlah adakah perubahan data kelembaban dan suhu yang ditampilkan!"
      ]
    },
    {
      "cell_type": "markdown",
      "metadata": {
        "id": "S0mSaTfPDUMD",
        "colab_type": "text"
      },
      "source": [
        "15.\tJika anda sudah memahami 12 langkah di atas, sekarang lanjutkan dengan mempraktikkan NodeMCU dengan sensor LDR. Buatlah rangkaian seperti di bawah ini:\n",
        "![MCU LDR](https://github.com/herjunart/Trainer-IoT-berbasis-ESP8266/blob/master/skema%20job/skema%20ldr%20lcd_bb.jpg?raw=true)"
      ]
    },
    {
      "cell_type": "markdown",
      "metadata": {
        "id": "RDg89TQQDZIU",
        "colab_type": "text"
      },
      "source": [
        "16.\tLakukan langkah yang sama seperti langkah 1-10 untuk sensor LDR, namun untuk board pilih NodeMCU 1.0 (ESP-12E Module)."
      ]
    },
    {
      "cell_type": "markdown",
      "metadata": {
        "id": "tEAhjWC5DiB2",
        "colab_type": "text"
      },
      "source": [
        "17.\tNamun, sebelum membuat program amati dan perhatikan terlebih dahulu algoritma program di bawah ini:\n",
        "![flowchart job1b](https://github.com/herjunart/Trainer-IoT-berbasis-ESP8266/blob/master/flowchart/Job1b.jpg?raw=true)"
      ]
    },
    {
      "cell_type": "markdown",
      "metadata": {
        "id": "Lrd2JV6GDkvA",
        "colab_type": "text"
      },
      "source": [
        "18.\tKetikkan program job1b.ino"
      ]
    },
    {
      "cell_type": "code",
      "metadata": {
        "id": "gkEzKeBvDnW8",
        "colab_type": "code",
        "colab": {}
      },
      "source": [
        "#include <LiquidCrystal_I2C.h>\n",
        "#define LDRPIN A0 //ke PIN A0 NODEMCU\n",
        "LiquidCrystal_I2C lcd(0x27,16,2);\n",
        "int sensorValue = 0;\n",
        "float Vin = 5; \n",
        "float voltage = 0;\n",
        "float ohm = 0;\n",
        "float Rref = 1000; //sesuaikan resistor yang anda gunakan  \n",
        "void setup() {\n",
        "  lcd.begin();\n",
        "  lcd.backlight();\n",
        "  lcd.setCursor(0,0); lcd.print(\"Trainer IoT\");\n",
        "  lcd.setCursor(0,1); lcd.print(\"berbasis ESP8266\");\n",
        "  delay(2000);\n",
        "}\n",
        "void loop() {\n",
        "  lcd.clear();\n",
        "  sensorValue = analogRead(LDRPIN);\n",
        "  voltage = (sensorValue/1024.0) * Vin;\n",
        "  lcd.setCursor(0,0); lcd.print(voltage); lcd.print(\" V\");\n",
        "  ohm = Rref * (1 / ((Vin / voltage)-1));\n",
        "  lcd.setCursor(0,1); lcd.print(ohm); lcd.print(\" Ohm\");\n",
        "  delay(100);\n",
        "}"
      ],
      "execution_count": 0,
      "outputs": []
    },
    {
      "cell_type": "markdown",
      "metadata": {
        "id": "Oqkm9NFVDtKG",
        "colab_type": "text"
      },
      "source": [
        "19.\tAmati dan perhatikan data yang ditampilkan! Jika rangkaian dan program benar, maka LCD akan menampilkan data tegangan dan hambatan pada pembacaan sensor LDR."
      ]
    },
    {
      "cell_type": "markdown",
      "metadata": {
        "id": "ipW0KLApDvm5",
        "colab_type": "text"
      },
      "source": [
        "20.\tSelanjutnya ubah program #define LDRPIN A0 menjadi #define LDRPIN 16, kemudian amatilah perubahan yang terjadi!"
      ]
    },
    {
      "cell_type": "markdown",
      "metadata": {
        "id": "0tew8wXyD156",
        "colab_type": "text"
      },
      "source": [
        "### Latihan/Tugas"
      ]
    },
    {
      "cell_type": "markdown",
      "metadata": {
        "id": "Y2a8ZmyzD9Ik",
        "colab_type": "text"
      },
      "source": [
        "1.\tCobalah mengakses sensor-sensor lainnya dengan Wemos D1 R2 dan NodeMCU menggunakan langkah-langkah yang telah dipahami di atas! \n",
        "2.\tJelaskan pengaruh delay() pada program yang pertama!\n",
        "3.\tJelaskan pengaruh perubahan lokasi LDRPIN pada program kedua!\n",
        "4.\tBuatlah laporan kegiatan praktikum dan kesimpulannya!\n"
      ]
    }
  ]
}