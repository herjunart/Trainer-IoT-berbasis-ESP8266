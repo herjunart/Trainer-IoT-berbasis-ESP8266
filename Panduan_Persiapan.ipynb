{
  "nbformat": 4,
  "nbformat_minor": 0,
  "metadata": {
    "colab": {
      "name": "Panduan Persiapan.ipynb",
      "provenance": []
    },
    "kernelspec": {
      "name": "python3",
      "display_name": "Python 3"
    }
  },
  "cells": [
    {
      "cell_type": "markdown",
      "metadata": {
        "id": "s4EmBRFL398K",
        "colab_type": "text"
      },
      "source": [
        "# **Panduan Persiapan**"
      ]
    },
    {
      "cell_type": "markdown",
      "metadata": {
        "id": "iw10L29n4LA0",
        "colab_type": "text"
      },
      "source": [
        "Sebelum melakukan praktik, maka perlu disiapkan beberapa kebutuhan diantaranya adalah sebagai berikut:"
      ]
    },
    {
      "cell_type": "markdown",
      "metadata": {
        "id": "jiyzUFQ35DaV",
        "colab_type": "text"
      },
      "source": [
        "\n",
        "\n",
        "\n",
        "\n",
        "> 1. Menginstal software Arduino IDE\n",
        "\n",
        "Langkah instalasi:\n",
        "\n",
        "1)\tBuka flashdisk dan carilah file Arduino IDE.exe di folder Aplikasi atau download di internet.\n",
        "\n",
        "2)\tKlik dua kali file Arduino IDE.exe.\n",
        "\n",
        "3)\tIkuti proses instalasi hingga selesai.\n",
        "\n",
        "\n",
        "\n",
        "> 2. Menginstal driver\n",
        "Langkah instalasi:\n",
        "\n",
        "1)\tSebelum mengkopi file dan melakukan instalasi, matikan antivirus anda terlebih dahulu.\n",
        "\n",
        "2)\tBuka flashdisk dan carilah file SETUP.exe di folder CH341SER untuk laptop 32 dan laptop 64 bit. \n",
        "\n",
        "3)\tKlik dua kali file tersebut.\n",
        "\n",
        "4)\tIkuti proses instalasi hingga selesai.\n",
        "\n",
        "5)\tBuka flashdisk dan carilah file CP210xVCPInstaller_x86.exe di folder CP210x_Windows_Drivers untuk laptop 32 bit dan CP210xVCPInstaller_x64.exe untuk laptop 64 bit.\n",
        "\n",
        "6)\tPilih salah satu file sesuai laptop anda dan klik dua kali file tersebut.\n",
        "\n",
        "7)\tIkuti proses instalasi hingga selesai. \n",
        "\n",
        "> 3. Menginstal library \n",
        "Langkah instalasi:\n",
        "\n",
        "1)\tBuka aplikasi Arduino IDE. \n",
        "\n",
        "2)\tMasuk ke toolbar Sketch>Include Library>Add .ZIP library.\n",
        "\n",
        "3)\tPilih flashdisk dan masuk ke folder library.\n",
        "\n",
        "4)\tPilih salah satu file.\n",
        "\n",
        "5)\tLakukan satu persatu untuk semua file dalam folder library.\n",
        "\n",
        "6)\tIkuti proses instalasi hingga selesai.\n",
        "\n",
        "> 4. Menginstal board pada Arduino IDE\n",
        "\n",
        "1)\tBuka aplikasi Arduino IDE.\n",
        "\n",
        "2)\tMasuk ke toolbar File>Preferences>salin http://arduino.esp8266.com/stable/package_esp8266com_index.json ke Additional Boards Manager URLs> OK.\n",
        "\n",
        "3)\tMasuk ke toolbar Tools>Boards>Boards Manager.\n",
        "\n",
        "4)\tKetikkan esp.\n",
        "\n",
        "5)\tInstal esp8266 by ESP 8266 Community.\n",
        "\n",
        "6)\tKecepatan download tergantung pada kecepatan internet anda (kemungkinan sedikit lama), ikuti proses instalasi hingga selesai.\n",
        "\n",
        "\n",
        "\n",
        "> 5. Menginstal aplikasi Blynk pada smartphone\n",
        "\n",
        "download aplikasi blynk di play store: https://play.google.com/store/apps/details?id=cc.blynk&hl=in \n",
        "\n",
        "\n",
        "\n",
        "\n"
      ]
    }
  ]
}